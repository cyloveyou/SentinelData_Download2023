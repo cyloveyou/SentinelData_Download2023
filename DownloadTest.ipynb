{
 "cells": [
  {
   "cell_type": "code",
   "execution_count": null,
   "metadata": {},
   "outputs": [],
   "source": [
    "import multiprocessing\n",
    "import os\n",
    "import random\n",
    "import re\n",
    "import shutil\n",
    "import time\n",
    "\n",
    "import requests\n",
    "from tqdm import tqdm, trange # from tqdm.contrib.concurrent import process_map"
   ]
  },
  {
   "cell_type": "code",
   "execution_count": null,
   "metadata": {},
   "outputs": [],
   "source": [
    "from NewSentinelDownload import SentinelDownload "
   ]
  },
  {
   "cell_type": "code",
   "execution_count": null,
   "metadata": {},
   "outputs": [],
   "source": [
    "IPPort = \"127.0.0.1:7890\" # E.g., url:port\n",
    "Folder = r\"./SentinelDownloads\" # absolute path or relative path are ok, recommended to save in another folder\n",
    "userName = \"abc123@gmail.com\" # Your registered email\n",
    "password = \"abc123\" # Your password"
   ]
  },
  {
   "cell_type": "code",
   "execution_count": null,
   "metadata": {},
   "outputs": [],
   "source": [
    "proxies = {\n",
    "\t\t\"http\": IPPort,\n",
    "\t\t\"https\": IPPort\n",
    "\t}\n",
    "# set http and https"
   ]
  },
  {
   "cell_type": "code",
   "execution_count": null,
   "metadata": {},
   "outputs": [],
   "source": [
    "proxies "
   ]
  },
  {
   "cell_type": "code",
   "execution_count": null,
   "metadata": {},
   "outputs": [],
   "source": [
    "with open(\"SearchURL.txt\", mode=\"r\") as f:\n",
    "\t\turlString = f.read()  # 网页获取的url,顾及到url过长，故存放在txt文件中"
   ]
  },
  {
   "cell_type": "code",
   "execution_count": null,
   "metadata": {},
   "outputs": [],
   "source": [
    "# SentinelDownload(UserName=userName, Password=password, Proxies=proxies, SearchUrl=urlString)\n",
    "SL = SentinelDownload(UserName=userName, \n",
    "                      Password=password, \n",
    "                      Proxies=proxies, \n",
    "                      SearchUrl=urlString\n",
    "                      )\n",
    "# initialize "
   ]
  },
  {
   "cell_type": "code",
   "execution_count": null,
   "metadata": {},
   "outputs": [],
   "source": [
    "SL.MultiDownload(saveFolder=Folder) # MultiDownload, recommended to use\n",
    "# SL.SingleDownload(saveFolder=Folder)# SingleDownload"
   ]
  },
  {
   "cell_type": "code",
   "execution_count": null,
   "metadata": {},
   "outputs": [],
   "source": []
  }
 ],
 "metadata": {
  "kernelspec": {
   "display_name": "base",
   "language": "python",
   "name": "python3"
  },
  "language_info": {
   "codemirror_mode": {
    "name": "ipython",
    "version": 3
   },
   "file_extension": ".py",
   "mimetype": "text/x-python",
   "name": "python",
   "nbconvert_exporter": "python",
   "pygments_lexer": "ipython3",
   "version": "3.12.4"
  }
 },
 "nbformat": 4,
 "nbformat_minor": 2
}
